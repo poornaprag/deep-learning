{
  "nbformat": 4,
  "nbformat_minor": 0,
  "metadata": {
    "colab": {
      "name": "CourseraNNChapter4",
      "provenance": [],
      "collapsed_sections": []
    },
    "kernelspec": {
      "name": "python3",
      "display_name": "Python 3"
    }
  },
  "cells": [
    {
      "cell_type": "code",
      "metadata": {
        "id": "FdGuYQ5rUmfI",
        "colab_type": "code",
        "colab": {}
      },
      "source": [
        "import torch\n",
        "%matplotlib inline\n",
        "import numpy as np"
      ],
      "execution_count": 0,
      "outputs": []
    },
    {
      "cell_type": "code",
      "metadata": {
        "id": "vRiMH2eNchkP",
        "colab_type": "code",
        "outputId": "13cc57ef-3ca5-4c64-8317-576b0230f5a0",
        "colab": {}
      },
      "source": [
        "torch.manual_seed(123)"
      ],
      "execution_count": 0,
      "outputs": [
        {
          "output_type": "execute_result",
          "data": {
            "text/plain": [
              "<torch._C.Generator at 0x25660166a70>"
            ]
          },
          "metadata": {
            "tags": []
          },
          "execution_count": 2
        }
      ]
    },
    {
      "cell_type": "code",
      "metadata": {
        "id": "HRwfE7KSchkS",
        "colab_type": "code",
        "outputId": "9289cf1b-1a62-4e9f-91d5-27b1d916973a",
        "colab": {}
      },
      "source": [
        "train_loader = torch.utils.data.DataLoader(\n",
        "    datasets.MNIST('../data/p1ch2/mnist', train=True, download=True,\n",
        "                   transform=transforms.Compose([\n",
        "                       transforms.ToTensor(),\n",
        "                       transforms.Normalize((0.1307,), (0.3081,))\n",
        "                   ])),\n",
        "    batch_size=64, shuffle=True)"
      ],
      "execution_count": 0,
      "outputs": [
        {
          "output_type": "stream",
          "text": [
            "Downloading http://yann.lecun.com/exdb/mnist/train-images-idx3-ubyte.gz\n",
            "Downloading http://yann.lecun.com/exdb/mnist/train-labels-idx1-ubyte.gz\n",
            "Downloading http://yann.lecun.com/exdb/mnist/t10k-images-idx3-ubyte.gz\n",
            "Downloading http://yann.lecun.com/exdb/mnist/t10k-labels-idx1-ubyte.gz\n",
            "Processing...\n",
            "Done!\n"
          ],
          "name": "stdout"
        }
      ]
    },
    {
      "cell_type": "code",
      "metadata": {
        "id": "RPSVNv-XchkV",
        "colab_type": "code",
        "colab": {}
      },
      "source": [
        "class Net(nn.Module):\n",
        "    def __init__(self):\n",
        "        super(Net, self).__init__()\n",
        "        self.conv1 = nn.Conv2d(1, 10, kernel_size=5)\n",
        "        self.conv2 = nn.Conv2d(10, 20, kernel_size=5)\n",
        "        self.conv2_drop = nn.Dropout2d()\n",
        "        self.fc1 = nn.Linear(320, 50)\n",
        "        self.fc2 = nn.Linear(50, 10)\n",
        "\n",
        "    def forward(self, x):\n",
        "        x = F.relu(F.max_pool2d(self.conv1(x), 2))\n",
        "        x = F.relu(F.max_pool2d(self.conv2_drop(self.conv2(x)), 2))\n",
        "        x = x.view(-1, 320)\n",
        "        x = F.relu(self.fc1(x))\n",
        "        x = F.dropout(x, training=self.training)\n",
        "        x = self.fc2(x)\n",
        "        return F.log_softmax(x, dim=1)"
      ],
      "execution_count": 0,
      "outputs": []
    },
    {
      "cell_type": "code",
      "metadata": {
        "id": "qHm-lcvfchkY",
        "colab_type": "code",
        "colab": {}
      },
      "source": [
        "model = Net()"
      ],
      "execution_count": 0,
      "outputs": []
    },
    {
      "cell_type": "code",
      "metadata": {
        "id": "X1FJihQnchkb",
        "colab_type": "code",
        "colab": {}
      },
      "source": [
        "optimizer = optim.SGD(model.parameters(), lr=0.01, momentum=0.5)"
      ],
      "execution_count": 0,
      "outputs": []
    },
    {
      "cell_type": "code",
      "metadata": {
        "id": "xuo00UBechke",
        "colab_type": "code",
        "outputId": "217f1636-74a9-4579-ba1e-7c30aaa1623e",
        "colab": {}
      },
      "source": [
        "for epoch in range(10):\n",
        "    for batch_idx, (data, target) in enumerate(train_loader):\n",
        "        optimizer.zero_grad()\n",
        "        output = model(data)\n",
        "        loss = F.nll_loss(output, target)\n",
        "        loss.backward()\n",
        "        optimizer.step()\n",
        "    print('Current loss', float(loss))"
      ],
      "execution_count": 0,
      "outputs": [
        {
          "output_type": "stream",
          "text": [
            "Current loss 0.4354310631752014\n",
            "Current loss 0.23793256282806396\n",
            "Current loss 0.382179856300354\n",
            "Current loss 0.3900523781776428\n",
            "Current loss 0.283257395029068\n",
            "Current loss 0.1536979377269745\n",
            "Current loss 0.10767409205436707\n",
            "Current loss 0.14431846141815186\n",
            "Current loss 0.30025267601013184\n",
            "Current loss 0.18810895085334778\n"
          ],
          "name": "stdout"
        }
      ]
    },
    {
      "cell_type": "code",
      "metadata": {
        "id": "8fu7jXiCchki",
        "colab_type": "code",
        "colab": {}
      },
      "source": [
        "torch.save(model.state_dict(), '../data/p1ch2/mnist/mnist.pth')"
      ],
      "execution_count": 0,
      "outputs": []
    },
    {
      "cell_type": "code",
      "metadata": {
        "id": "Z6loUhQ9chkl",
        "colab_type": "code",
        "colab": {}
      },
      "source": [
        "pretrained_model = Net()\n",
        "pretrained_model.load_state_dict(torch.load('../data/p1ch2/mnist/mnist.pth'))"
      ],
      "execution_count": 0,
      "outputs": []
    },
    {
      "cell_type": "markdown",
      "metadata": {
        "id": "x0ADBz7tpBUp",
        "colab_type": "text"
      },
      "source": [
        "With Norm and Without"
      ]
    },
    {
      "cell_type": "code",
      "metadata": {
        "id": "Z-2U7sOOWqPX",
        "colab_type": "code",
        "outputId": "10b22c62-e747-4189-b0ac-5adc4528fb3b",
        "colab": {
          "base_uri": "https://localhost:8080/",
          "height": 52
        }
      },
      "source": [
        "c=[]\n",
        "f=[]\n",
        "for i in range(1,20):\n",
        "  c.append(i)\n",
        "  f.append(1.8*i + 32)\n",
        "print(c)\n",
        "print(f)"
      ],
      "execution_count": 0,
      "outputs": [
        {
          "output_type": "stream",
          "text": [
            "[1, 2, 3, 4, 5, 6, 7, 8, 9, 10, 11, 12, 13, 14, 15, 16, 17, 18, 19]\n",
            "[33.8, 35.6, 37.4, 39.2, 41.0, 42.8, 44.6, 46.4, 48.2, 50.0, 51.8, 53.6, 55.400000000000006, 57.2, 59.0, 60.8, 62.6, 64.4, 66.2]\n"
          ],
          "name": "stdout"
        }
      ]
    },
    {
      "cell_type": "code",
      "metadata": {
        "id": "vmXklnWOT8AX",
        "colab_type": "code",
        "colab": {}
      },
      "source": [
        "far = torch.tensor(f) \n",
        "unknown = torch.tensor(c)"
      ],
      "execution_count": 0,
      "outputs": []
    },
    {
      "cell_type": "code",
      "metadata": {
        "id": "GYhsbq3ZUx82",
        "colab_type": "code",
        "colab": {}
      },
      "source": [
        "#Defining a model\n",
        "def my_model(unknown, w, b):\n",
        "    return w * unknown + b"
      ],
      "execution_count": 0,
      "outputs": []
    },
    {
      "cell_type": "code",
      "metadata": {
        "id": "iQ2tUZOzVEmC",
        "colab_type": "code",
        "colab": {}
      },
      "source": [
        "#Defining loss function\n",
        "def compute_loss(pred, far):\n",
        "  sq_diff = (pred - far)**2 \n",
        "  return sq_diff.mean()"
      ],
      "execution_count": 0,
      "outputs": []
    },
    {
      "cell_type": "code",
      "metadata": {
        "id": "qymhSDbAVbLd",
        "colab_type": "code",
        "outputId": "71d3357c-3be0-4577-9c6f-4dbc94b24a71",
        "colab": {
          "base_uri": "https://localhost:8080/",
          "height": 52
        }
      },
      "source": [
        "#Initializing the parameters and invoking model\n",
        "w = torch.ones(1) \n",
        "b = torch.zeros(1)\n",
        "\n",
        "pred = my_model(unknown, w, b) \n",
        "pred"
      ],
      "execution_count": 0,
      "outputs": [
        {
          "output_type": "execute_result",
          "data": {
            "text/plain": [
              "tensor([ 1.,  2.,  3.,  4.,  5.,  6.,  7.,  8.,  9., 10., 11., 12., 13., 14.,\n",
              "        15., 16., 17., 18., 19.])"
            ]
          },
          "metadata": {
            "tags": []
          },
          "execution_count": 27
        }
      ]
    },
    {
      "cell_type": "code",
      "metadata": {
        "id": "KzRxP5s7VlhE",
        "colab_type": "code",
        "outputId": "cd62df35-1f88-4d30-dfe2-982a7b3d3991",
        "colab": {
          "base_uri": "https://localhost:8080/",
          "height": 34
        }
      },
      "source": [
        "#Checking the value of loss\n",
        "loss = compute_loss(pred, far) \n",
        "loss"
      ],
      "execution_count": 0,
      "outputs": [
        {
          "output_type": "execute_result",
          "data": {
            "text/plain": [
              "tensor(1619.2000)"
            ]
          },
          "metadata": {
            "tags": []
          },
          "execution_count": 28
        }
      ]
    },
    {
      "cell_type": "code",
      "metadata": {
        "id": "tmKur5voVtsZ",
        "colab_type": "code",
        "colab": {}
      },
      "source": [
        "#Computing rate of change of loss\n",
        "gradient = 0.1\n",
        "rate_of_change_of_loss_w = (compute_loss(my_model(unknown, w + gradient, b), far) - compute_loss(my_model(unknown, w - gradient, b), far)) / (2.0 * gradient)"
      ],
      "execution_count": 0,
      "outputs": []
    },
    {
      "cell_type": "code",
      "metadata": {
        "id": "f6prOAlsWwZM",
        "colab_type": "code",
        "colab": {}
      },
      "source": [
        "#Updating weights\n",
        "lr = 1e-2\n",
        "w = w - lr * rate_of_change_of_loss_w\n",
        "\n",
        "rate_of_change_of_loss_b = (compute_loss(my_model(unknown, w + gradient, b), far) - compute_loss(my_model(unknown, w - gradient, b), far)) / (2.0 * gradient)\n",
        "b = b - lr * rate_of_change_of_loss_b"
      ],
      "execution_count": 0,
      "outputs": []
    },
    {
      "cell_type": "code",
      "metadata": {
        "id": "T12XXfKtXWQf",
        "colab_type": "code",
        "colab": {}
      },
      "source": [
        "#Computing derivative of loss function\n",
        "def comput_grad_loss(pred, far):\n",
        "  grad_diffs = 2 * (pred - far) \n",
        "  return grad_diffs"
      ],
      "execution_count": 0,
      "outputs": []
    },
    {
      "cell_type": "code",
      "metadata": {
        "id": "yPVUitn7X_Z9",
        "colab_type": "code",
        "colab": {}
      },
      "source": [
        "def my_dmodel_dw(unknown, w, b):\n",
        "    return unknown"
      ],
      "execution_count": 0,
      "outputs": []
    },
    {
      "cell_type": "code",
      "metadata": {
        "id": "uBaxxAWgYKYj",
        "colab_type": "code",
        "colab": {}
      },
      "source": [
        "def my_dmodel_db(unknown, w, b):\n",
        "    return 1.0"
      ],
      "execution_count": 0,
      "outputs": []
    },
    {
      "cell_type": "code",
      "metadata": {
        "id": "jxSWAZytYuMQ",
        "colab_type": "code",
        "colab": {}
      },
      "source": [
        "def compute_grad(unknown, far, pred, w, b):\n",
        "    dev_loss_dtp = comput_grad_loss(pred, far)\n",
        "    dev_loss_dw = dev_loss_dtp * my_dmodel_dw(unknown, w, b)\n",
        "    dev_loss_db = dev_loss_dtp * my_dmodel_db(unknown, w, b)\n",
        "    return torch.stack([dev_loss_dw.sum(), dev_loss_db.sum()])"
      ],
      "execution_count": 0,
      "outputs": []
    },
    {
      "cell_type": "code",
      "metadata": {
        "id": "rtAmPyE-ZS3P",
        "colab_type": "code",
        "colab": {}
      },
      "source": [
        "#Defining the training loop\n",
        "def train_loop(no_of_epochs, lr, params, unknown, far):\n",
        "    for epoch in range(1, no_of_epochs + 1):\n",
        "        w, b = params\n",
        "        #Forward pass\n",
        "        pred = my_model(unknown, w, b)\n",
        "        loss = compute_loss(pred, far)\n",
        "        #Backward pass\n",
        "        gradient = compute_grad(unknown, far, pred, w, b)\n",
        "        params = params - lr * gradient\n",
        "        print('Epoch %d, Loss %f' % (epoch, float(loss)))\n",
        "            \n",
        "    return params"
      ],
      "execution_count": 0,
      "outputs": []
    },
    {
      "cell_type": "code",
      "metadata": {
        "id": "-i8VJpPvZz11",
        "colab_type": "code",
        "colab": {}
      },
      "source": [
        "def train_loop(no_of_epochs, lr, params, unknown, far, print_params=True):\n",
        "    for epoch in range(1, no_of_epochs + 1):\n",
        "        w, b = params\n",
        "\n",
        "        pred = my_model(unknown, w, b)\n",
        "        loss = compute_loss(pred, far)\n",
        "        gradient = compute_grad(unknown, far, pred, w, b)\n",
        "\n",
        "        params = params - lr * gradient\n",
        "\n",
        "        if epoch in {1, 2, 3, 10, 11, 99, 100, 4000, 5000}:  \n",
        "            print('Epoch %d, Loss %f' % (epoch, float(loss)))\n",
        "            if print_params:\n",
        "                print('    Params:', params)\n",
        "                print('    Grad:  ', gradient)\n",
        "        if epoch in {4, 12, 101}:\n",
        "            print('...')\n",
        "\n",
        "        if not torch.isfinite(loss).all():\n",
        "            break  \n",
        "            \n",
        "    return params"
      ],
      "execution_count": 0,
      "outputs": []
    },
    {
      "cell_type": "code",
      "metadata": {
        "id": "U8RO5D13abz_",
        "colab_type": "code",
        "outputId": "8ec5b0c3-b39f-4e8c-f34b-53f25fcec685",
        "colab": {
          "base_uri": "https://localhost:8080/",
          "height": 329
        }
      },
      "source": [
        "train_loop(\n",
        "    no_of_epochs = 100, \n",
        "    lr = 1e-2, \n",
        "    params = torch.tensor([1.0, 0.0]), \n",
        "    unknown = unknown, \n",
        "    far = far)"
      ],
      "execution_count": 0,
      "outputs": [
        {
          "output_type": "stream",
          "text": [
            "Epoch 1, Loss 1619.199951\n",
            "    Params: tensor([162.1200,  15.2000])\n",
            "    Grad:   tensor([-16112.,  -1520.])\n",
            "Epoch 2, Loss 3287739.500000\n",
            "    Params: tensor([-7693.8472,  -587.6320])\n",
            "    Grad:   tensor([785596.7500,  60283.1992])\n",
            "Epoch 3, Loss 7794741248.000000\n",
            "    Params: tensor([374825.7188,  28891.2832])\n",
            "    Grad:   tensor([-38251956.0000,  -2947891.7500])\n",
            "...\n",
            "Epoch 10, Loss 3283304186273942697256254038867968.000000\n",
            "    Params: tensor([-2.4327e+17, -1.8746e+16])\n",
            "    Grad:   tensor([2.4826e+19, 1.9131e+18])\n",
            "Epoch 11, Loss 7784684802296664400276204523771396096.000000\n",
            "    Params: tensor([1.1845e+19, 9.1279e+17])\n",
            "    Grad:   tensor([-1.2089e+21, -9.3153e+19])\n",
            "...\n"
          ],
          "name": "stdout"
        },
        {
          "output_type": "execute_result",
          "data": {
            "text/plain": [
              "tensor([-5.7678e+20, -4.4446e+19])"
            ]
          },
          "metadata": {
            "tags": []
          },
          "execution_count": 37
        }
      ]
    },
    {
      "cell_type": "code",
      "metadata": {
        "id": "-yYTm9z1bHPB",
        "colab_type": "code",
        "outputId": "4af3516c-8ab2-43b2-ff81-f93e32cf353d",
        "colab": {
          "base_uri": "https://localhost:8080/",
          "height": 433
        }
      },
      "source": [
        "train_loop(\n",
        "    no_of_epochs = 100, \n",
        "    lr = 1e-4, \n",
        "    params = torch.tensor([1.0, 0.0]), \n",
        "    unknown = unknown, \n",
        "    far = far)"
      ],
      "execution_count": 0,
      "outputs": [
        {
          "output_type": "stream",
          "text": [
            "Epoch 1, Loss 1619.199951\n",
            "    Params: tensor([2.6112, 0.1520])\n",
            "    Grad:   tensor([-16112.,  -1520.])\n",
            "Epoch 2, Loss 583.139160\n",
            "    Params: tensor([3.4207, 0.2422])\n",
            "    Grad:   tensor([-8094.9121,  -901.9681])\n",
            "Epoch 3, Loss 320.629456\n",
            "    Params: tensor([3.8269, 0.3013])\n",
            "    Grad:   tensor([-4061.7520,  -590.9340])\n",
            "...\n",
            "Epoch 10, Loss 229.012131\n",
            "    Params: tensor([4.2220, 0.5256])\n",
            "    Grad:   tensor([ -12.1329, -277.1824])\n",
            "Epoch 11, Loss 228.608551\n",
            "    Params: tensor([4.2216, 0.5532])\n",
            "    Grad:   tensor([   4.3924, -275.6683])\n",
            "...\n",
            "Epoch 99, Loss 196.077225\n",
            "    Params: tensor([4.0442, 2.8765])\n",
            "    Grad:   tensor([  19.5803, -254.1074])\n",
            "Epoch 100, Loss 195.735550\n",
            "    Params: tensor([4.0423, 2.9019])\n",
            "    Grad:   tensor([  19.5646, -253.8858])\n"
          ],
          "name": "stdout"
        },
        {
          "output_type": "execute_result",
          "data": {
            "text/plain": [
              "tensor([4.0423, 2.9019])"
            ]
          },
          "metadata": {
            "tags": []
          },
          "execution_count": 38
        }
      ]
    },
    {
      "cell_type": "code",
      "metadata": {
        "id": "JGElx_dqbRuv",
        "colab_type": "code",
        "colab": {}
      },
      "source": [
        "norm_uk = 0.1 * unknown"
      ],
      "execution_count": 0,
      "outputs": []
    },
    {
      "cell_type": "code",
      "metadata": {
        "id": "nknPyMcfcJdX",
        "colab_type": "code",
        "outputId": "6e991ab7-4d41-4ebb-de8a-23b26f0051ad",
        "colab": {
          "base_uri": "https://localhost:8080/",
          "height": 450
        }
      },
      "source": [
        "train_loop(\n",
        "    no_of_epochs = 100, \n",
        "    lr = 1e-2, \n",
        "    params = torch.tensor([1.0, 0.0]), \n",
        "    unknown = norm_uk, \n",
        "    far = far)"
      ],
      "execution_count": 0,
      "outputs": [
        {
          "output_type": "stream",
          "text": [
            "Epoch 1, Loss 2487.699951\n",
            "    Params: tensor([21.5580, 18.6200])\n",
            "    Grad:   tensor([-2055.8000, -1862.0000])\n",
            "Epoch 2, Loss 100.269501\n",
            "    Params: tensor([24.8847, 22.3524])\n",
            "    Grad:   tensor([-332.6747, -373.2360])\n",
            "Epoch 3, Loss 21.853508\n",
            "    Params: tensor([25.1498, 23.4023])\n",
            "    Grad:   tensor([ -26.5038, -104.9900])\n",
            "...\n",
            "Epoch 10, Loss 9.055923\n",
            "    Params: tensor([22.9927, 26.2025])\n",
            "    Grad:   tensor([ 27.8021, -32.2841])\n",
            "Epoch 11, Loss 8.125742\n",
            "    Params: tensor([22.7293, 26.5084])\n",
            "    Grad:   tensor([ 26.3358, -30.5809])\n",
            "...\n",
            "Epoch 99, Loss 0.000586\n",
            "    Params: tensor([18.0402, 31.9534])\n",
            "    Grad:   tensor([ 0.2236, -0.2597])\n",
            "Epoch 100, Loss 0.000526\n",
            "    Params: tensor([18.0380, 31.9558])\n",
            "    Grad:   tensor([ 0.2118, -0.2460])\n",
            "...\n"
          ],
          "name": "stdout"
        },
        {
          "output_type": "execute_result",
          "data": {
            "text/plain": [
              "tensor([18.0002, 31.9998])"
            ]
          },
          "metadata": {
            "tags": []
          },
          "execution_count": 40
        }
      ]
    },
    {
      "cell_type": "markdown",
      "metadata": {
        "id": "1TKiBdsXo6d8",
        "colab_type": "text"
      },
      "source": [
        "Now loss is minimal after normlization"
      ]
    }
  ]
}