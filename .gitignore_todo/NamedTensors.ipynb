{
  "nbformat": 4,
  "nbformat_minor": 0,
  "metadata": {
    "kernelspec": {
      "display_name": "Python 3",
      "language": "python",
      "name": "python3"
    },
    "language_info": {
      "codemirror_mode": {
        "name": "ipython",
        "version": 3
      },
      "file_extension": ".py",
      "mimetype": "text/x-python",
      "name": "python",
      "nbconvert_exporter": "python",
      "pygments_lexer": "ipython3",
      "version": "3.7.3"
    },
    "colab": {
      "name": "NamedTensors",
      "provenance": []
    }
  },
  "cells": [
    {
      "cell_type": "code",
      "metadata": {
        "id": "3JnvRe9lxYVq",
        "colab_type": "code",
        "outputId": "adbc3210-762b-45d6-fc9e-33717bd60b5d",
        "colab": {}
      },
      "source": [
        "import torch\n",
        "_=torch.tensor([0.2126, 0.7152, 0.0722], names = ['c'])"
      ],
      "execution_count": 0,
      "outputs": [
        {
          "output_type": "stream",
          "text": [
            "/Users/distiller/project/conda/conda-bld/pytorch_1587428061935/work/c10/core/TensorImpl.h:806: UserWarning: Named tensors and all their associated APIs are an experimental feature and subject to change. Please do not use them for anything important until they are released as stable.\n"
          ],
          "name": "stderr"
        }
      ]
    },
    {
      "cell_type": "code",
      "metadata": {
        "id": "lE17CM46xYVz",
        "colab_type": "code",
        "colab": {}
      },
      "source": [
        "img_t = torch.randn(3,5,5)\n",
        "weights = torch.tensor([0.2126,0.7152,0.0722])"
      ],
      "execution_count": 0,
      "outputs": []
    },
    {
      "cell_type": "code",
      "metadata": {
        "id": "xjB_EPozxYV6",
        "colab_type": "code",
        "colab": {}
      },
      "source": [
        "batch_t = torch.randn(2,3,5,5)"
      ],
      "execution_count": 0,
      "outputs": []
    },
    {
      "cell_type": "code",
      "metadata": {
        "id": "NO3VvqGWxYWC",
        "colab_type": "code",
        "outputId": "319bae2d-d43b-461f-fedc-c885c5aae263",
        "colab": {}
      },
      "source": [
        "img_gray_naive = img_t.mean(-3)\n",
        "batch_gray_naive = batch_t.mean(-3)\n",
        "img_gray_naive.shape, batch_gray_naive.shape"
      ],
      "execution_count": 0,
      "outputs": [
        {
          "output_type": "execute_result",
          "data": {
            "text/plain": [
              "(torch.Size([5, 5]), torch.Size([2, 5, 5]))"
            ]
          },
          "metadata": {
            "tags": []
          },
          "execution_count": 8
        }
      ]
    },
    {
      "cell_type": "code",
      "metadata": {
        "id": "OBdzmeYFxYWI",
        "colab_type": "code",
        "outputId": "014ecad0-21d4-42bb-ab5a-871c5658bbbc",
        "colab": {}
      },
      "source": [
        "unsqueezed_weights = weights.unsqueeze(-1).unsqueeze(-1)\n",
        "img_weights = (img_t * unsqueezed_weights)\n",
        "batch_weights =(batch_t * unsqueezed_weights)\n",
        "img_gray_weighted = batch_weights.sum(-3)\n",
        "batch_weights.shape, batch_t.shape, unsqueezed_weights.shape"
      ],
      "execution_count": 0,
      "outputs": [
        {
          "output_type": "execute_result",
          "data": {
            "text/plain": [
              "(torch.Size([2, 3, 5, 5]), torch.Size([2, 3, 5, 5]), torch.Size([3, 1, 1]))"
            ]
          },
          "metadata": {
            "tags": []
          },
          "execution_count": 18
        }
      ]
    },
    {
      "cell_type": "code",
      "metadata": {
        "id": "BR3OVK0txYWN",
        "colab_type": "code",
        "outputId": "8ba54819-c7e2-4669-a2db-a6ae9ea5ac35",
        "colab": {}
      },
      "source": [
        "img_gray_weighted_fancy = torch.einsum('...chw,c->...hw',img_t,weights)\n",
        "batch_gray_weighted_fancy = torch.einsum('...chw,c->...hw', batch_t, weights)\n",
        "batch_gray_weighted_fancy.shape"
      ],
      "execution_count": 0,
      "outputs": [
        {
          "output_type": "execute_result",
          "data": {
            "text/plain": [
              "torch.Size([2, 5, 5])"
            ]
          },
          "metadata": {
            "tags": []
          },
          "execution_count": 19
        }
      ]
    },
    {
      "cell_type": "code",
      "metadata": {
        "id": "T_Y60-_QxYWS",
        "colab_type": "code",
        "outputId": "12b2d448-1a0e-4c21-cd92-4b1dcbded323",
        "colab": {}
      },
      "source": [
        "weights_named = torch.tensor([0.2126,0.7152,0.0722], names = ['channels'])\n",
        "weights_named"
      ],
      "execution_count": 0,
      "outputs": [
        {
          "output_type": "execute_result",
          "data": {
            "text/plain": [
              "tensor([0.2126, 0.7152, 0.0722], names=('channels',))"
            ]
          },
          "metadata": {
            "tags": []
          },
          "execution_count": 20
        }
      ]
    },
    {
      "cell_type": "code",
      "metadata": {
        "id": "b5D2t7sIxYWa",
        "colab_type": "code",
        "outputId": "eb4fe561-c598-44bf-a7e4-e80b6e2b994c",
        "colab": {}
      },
      "source": [
        "img_named = img_t.refine_names(...,'channels', 'rows', 'columns')\n",
        "batch_named= batch_t.refine_names(...,'channels', 'rows', 'columns')\n",
        "print(\"img named:\", img_named.shape,img_named.names)\n",
        "print(\"batch named\", batch_named.shape, batch_named.names)"
      ],
      "execution_count": 0,
      "outputs": [
        {
          "output_type": "stream",
          "text": [
            "img named: torch.Size([3, 5, 5]) ('channels', 'rows', 'columns')\n",
            "batch named torch.Size([2, 3, 5, 5]) (None, 'channels', 'rows', 'columns')\n"
          ],
          "name": "stdout"
        }
      ]
    },
    {
      "cell_type": "code",
      "metadata": {
        "id": "4Q4ei9dYxYWe",
        "colab_type": "code",
        "outputId": "024a5489-561e-4d12-e7a6-95005a72d722",
        "colab": {}
      },
      "source": [
        "weights_aligned = weights_named.align_as(img_named)\n",
        "weights_aligned.shape,weights_aligned.names"
      ],
      "execution_count": 0,
      "outputs": [
        {
          "output_type": "execute_result",
          "data": {
            "text/plain": [
              "(torch.Size([3, 1, 1]), ('channels', 'rows', 'columns'))"
            ]
          },
          "metadata": {
            "tags": []
          },
          "execution_count": 23
        }
      ]
    },
    {
      "cell_type": "code",
      "metadata": {
        "id": "7wrP9sQ-xYWk",
        "colab_type": "code",
        "outputId": "35a64072-8108-4215-8d26-da79852b8aba",
        "colab": {}
      },
      "source": [
        "gray_named = (img_named * weights_aligned).sum('channels')\n",
        "gray_named.shape, gray_named.names"
      ],
      "execution_count": 0,
      "outputs": [
        {
          "output_type": "execute_result",
          "data": {
            "text/plain": [
              "(torch.Size([5, 5]), ('rows', 'columns'))"
            ]
          },
          "metadata": {
            "tags": []
          },
          "execution_count": 24
        }
      ]
    },
    {
      "cell_type": "code",
      "metadata": {
        "id": "3Ya7MA3uxYWo",
        "colab_type": "code",
        "outputId": "cdbbc03f-14ba-404c-8d29-c44687562dfd",
        "colab": {}
      },
      "source": [
        "try:\n",
        "    gray_named = (img_named[...,:3] * weights_named).sum('channels')\n",
        "except Exception as e:\n",
        "    print(e)"
      ],
      "execution_count": 0,
      "outputs": [
        {
          "output_type": "stream",
          "text": [
            "Error when attempting to broadcast dims ['channels', 'rows', 'columns'] and dims ['channels']: dim 'columns' and dim 'channels' are at the same position from the right but do not match.\n"
          ],
          "name": "stdout"
        }
      ]
    },
    {
      "cell_type": "code",
      "metadata": {
        "id": "1JXpPGqDxYWr",
        "colab_type": "code",
        "outputId": "a4cf277f-a8f0-4818-ac73-06aa33373a0a",
        "colab": {}
      },
      "source": [
        "gray_plain = gray_named.rename(None)\n",
        "gray_plain.shape, gray_plain.names"
      ],
      "execution_count": 0,
      "outputs": [
        {
          "output_type": "execute_result",
          "data": {
            "text/plain": [
              "(torch.Size([5, 5]), (None, None))"
            ]
          },
          "metadata": {
            "tags": []
          },
          "execution_count": 27
        }
      ]
    }
  ]
}