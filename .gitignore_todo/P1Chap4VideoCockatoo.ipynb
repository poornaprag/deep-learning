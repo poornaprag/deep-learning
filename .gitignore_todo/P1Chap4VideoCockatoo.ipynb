{
  "nbformat": 4,
  "nbformat_minor": 0,
  "metadata": {
    "kernelspec": {
      "display_name": "Python 3",
      "language": "python",
      "name": "python3"
    },
    "language_info": {
      "codemirror_mode": {
        "name": "ipython",
        "version": 3
      },
      "file_extension": ".py",
      "mimetype": "text/x-python",
      "name": "python",
      "nbconvert_exporter": "python",
      "pygments_lexer": "ipython3",
      "version": "3.7.3"
    },
    "colab": {
      "name": "P1Chap4VideoCockatoo",
      "provenance": []
    }
  },
  "cells": [
    {
      "cell_type": "code",
      "metadata": {
        "id": "s7nbNI8Zxe0e",
        "colab_type": "code",
        "colab": {}
      },
      "source": [
        "# pip install imageio-ffmpeg"
      ],
      "execution_count": 0,
      "outputs": []
    },
    {
      "cell_type": "code",
      "metadata": {
        "id": "3ecbEVCLxe0q",
        "colab_type": "code",
        "colab": {}
      },
      "source": [
        "import numpy as np\n",
        "import torch\n",
        "torch.set_printoptions(edgeitems=2, threshold=50)"
      ],
      "execution_count": 0,
      "outputs": []
    },
    {
      "cell_type": "code",
      "metadata": {
        "id": "HrdvLSapxe0v",
        "colab_type": "code",
        "outputId": "161af57b-1916-431e-d9d4-67c343688c37",
        "colab": {}
      },
      "source": [
        "import imageio\n",
        "\n",
        "reader = imageio.get_reader('https://github.com/deep-learning-with-pytorch/dlwpt-code/blob/master/data/p1ch4/video-cockatoo/cockatoo.mp4')\n",
        "meta = reader.get_meta_data()\n",
        "meta"
      ],
      "execution_count": 0,
      "outputs": [
        {
          "output_type": "execute_result",
          "data": {
            "text/plain": [
              "{'plugin': 'ffmpeg',\n",
              " 'nframes': inf,\n",
              " 'ffmpeg_version': '4.1-tessus  https://evermeet.cx/ffmpeg/ built with Apple LLVM version 10.0.0 (clang-1000.11.45.5)',\n",
              " 'codec': 'h264',\n",
              " 'pix_fmt': 'yuv444p',\n",
              " 'fps': 20.0,\n",
              " 'source_size': (1280, 720),\n",
              " 'size': (1280, 720),\n",
              " 'duration': 14.0}"
            ]
          },
          "metadata": {
            "tags": []
          },
          "execution_count": 3
        }
      ]
    },
    {
      "cell_type": "code",
      "metadata": {
        "id": "QWU7AUDBxe01",
        "colab_type": "code",
        "colab": {}
      },
      "source": [
        "\n",
        "n_channels = 3\n",
        "n_frames = meta['nframes']\n",
        "video = torch.empty(n_channels, n_frames, *meta['size'])"
      ],
      "execution_count": 0,
      "outputs": []
    },
    {
      "cell_type": "code",
      "metadata": {
        "id": "wHQwrIizxe07",
        "colab_type": "code",
        "colab": {}
      },
      "source": [
        "for i, frame_arr in enumerate(reader):\n",
        "    frame = torch.from_numpy(frame_arr).float()\n",
        "    video[:, i] = torch.transpose(frame, 0, 2)"
      ],
      "execution_count": 0,
      "outputs": []
    },
    {
      "cell_type": "code",
      "metadata": {
        "id": "OF5cg_ZPxe1A",
        "colab_type": "code",
        "colab": {}
      },
      "source": [
        "time_video = torch.empty(n_frames, n_channels, *meta['size'])\n",
        "\n",
        "for i, frame in enumerate(reader):\n",
        "    frame = torch.from_numpy(frame).float()\n",
        "    time_video[i] = torch.transpose(frame, 0, 2)"
      ],
      "execution_count": 0,
      "outputs": []
    }
  ]
}