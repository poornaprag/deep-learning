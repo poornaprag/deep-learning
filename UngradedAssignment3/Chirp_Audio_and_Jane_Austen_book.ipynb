{
  "nbformat": 4,
  "nbformat_minor": 0,
  "metadata": {
    "kernelspec": {
      "display_name": "Python 3",
      "language": "python",
      "name": "python3"
    },
    "language_info": {
      "codemirror_mode": {
        "name": "ipython",
        "version": 3
      },
      "file_extension": ".py",
      "mimetype": "text/x-python",
      "name": "python",
      "nbconvert_exporter": "python",
      "pygments_lexer": "ipython3",
      "version": "3.7.3"
    },
    "colab": {
      "name": "Chirp Audio and Jane Austen book",
      "provenance": []
    }
  },
  "cells": [
    {
      "cell_type": "code",
      "metadata": {
        "id": "o6I6vPEk1d8p",
        "colab_type": "code",
        "colab": {}
      },
      "source": [
        "import numpy as np\n",
        "import torch\n",
        "torch.set_printoptions(edgeitems=2, threshold=50)"
      ],
      "execution_count": 0,
      "outputs": []
    },
    {
      "cell_type": "code",
      "metadata": {
        "id": "TlipJ2Fh1d8u",
        "colab_type": "code",
        "outputId": "1694b567-895f-4b5b-c3cf-2244c6b6af1f",
        "colab": {}
      },
      "source": [
        "import scipy.io.wavfile as wavfile"
      ],
      "execution_count": 0,
      "outputs": [
        {
          "output_type": "execute_result",
          "data": {
            "text/plain": [
              "(44100, array([ -388, -3387, -4634, ...,  2289,  1327,    90], dtype=int16))"
            ]
          },
          "metadata": {
            "tags": []
          },
          "execution_count": 2
        }
      ]
    },
    {
      "cell_type": "code",
      "metadata": {
        "id": "mdZqvtnn2id4",
        "colab_type": "code",
        "colab": {}
      },
      "source": [
        "freq, waveform_arr = wavfile.read('https://raw.githubusercontent.com/deep-learning-with-pytorch/dlwpt-code/master/data/p1ch4/audio-chirp/1-100038-A-14.wav')\n",
        "freq, waveform_arr"
      ],
      "execution_count": 0,
      "outputs": []
    },
    {
      "cell_type": "code",
      "metadata": {
        "id": "gnKFxFV31d80",
        "colab_type": "code",
        "outputId": "0849af3e-43fb-44f8-eb25-06a091b9024e",
        "colab": {}
      },
      "source": [
        "waveform = torch.from_numpy(waveform_arr).float()\n",
        "waveform.shape"
      ],
      "execution_count": 0,
      "outputs": [
        {
          "output_type": "stream",
          "text": [
            "/Users/distiller/project/conda/conda-bld/pytorch_1587428061935/work/torch/csrc/utils/tensor_numpy.cpp:141: UserWarning: The given NumPy array is not writeable, and PyTorch does not support non-writeable tensors. This means you can write to the underlying (supposedly non-writeable) NumPy array using the tensor. You may want to copy the array to protect its data or make it writeable before converting it to a tensor. This type of warning will be suppressed for the rest of this program.\n"
          ],
          "name": "stderr"
        },
        {
          "output_type": "execute_result",
          "data": {
            "text/plain": [
              "torch.Size([220500])"
            ]
          },
          "metadata": {
            "tags": []
          },
          "execution_count": 3
        }
      ]
    },
    {
      "cell_type": "code",
      "metadata": {
        "id": "eZWxeDGe1d83",
        "colab_type": "code",
        "outputId": "8e999ee8-4aaa-4119-e02f-6005164aefb7",
        "colab": {}
      },
      "source": [
        "from scipy import signal\n",
        "\n",
        "f_arr, t_arr, sp_arr = signal.spectrogram(waveform_arr, freq)\n",
        "\n",
        "sp_mono = torch.from_numpy(sp_arr)\n",
        "sp_mono.shape"
      ],
      "execution_count": 0,
      "outputs": [
        {
          "output_type": "execute_result",
          "data": {
            "text/plain": [
              "torch.Size([129, 984])"
            ]
          },
          "metadata": {
            "tags": []
          },
          "execution_count": 4
        }
      ]
    },
    {
      "cell_type": "code",
      "metadata": {
        "id": "cRTi78As1d86",
        "colab_type": "code",
        "outputId": "ade430d2-4cc3-4c6f-9e4c-511b462d4cad",
        "colab": {}
      },
      "source": [
        "sp_left = sp_right = sp_arr\n",
        "sp_left_t = torch.from_numpy(sp_left)\n",
        "sp_right_t = torch.from_numpy(sp_right)\n",
        "sp_left_t.shape, sp_right_t.shape"
      ],
      "execution_count": 0,
      "outputs": [
        {
          "output_type": "execute_result",
          "data": {
            "text/plain": [
              "(torch.Size([129, 984]), torch.Size([129, 984]))"
            ]
          },
          "metadata": {
            "tags": []
          },
          "execution_count": 5
        }
      ]
    },
    {
      "cell_type": "code",
      "metadata": {
        "id": "s6K3fZGW1d89",
        "colab_type": "code",
        "outputId": "c63797ed-ea08-465e-e323-30f390f40317",
        "colab": {}
      },
      "source": [
        "sp_t = torch.stack((sp_left_t, sp_right_t), dim=0)\n",
        "sp_t.shape"
      ],
      "execution_count": 0,
      "outputs": [
        {
          "output_type": "execute_result",
          "data": {
            "text/plain": [
              "torch.Size([2, 129, 984])"
            ]
          },
          "metadata": {
            "tags": []
          },
          "execution_count": 6
        }
      ]
    },
    {
      "cell_type": "markdown",
      "metadata": {
        "id": "HFJA4rS63UqG",
        "colab_type": "text"
      },
      "source": [
        "Jane Austen"
      ]
    },
    {
      "cell_type": "code",
      "metadata": {
        "id": "zr3-2lPg3WQD",
        "colab_type": "code",
        "colab": {}
      },
      "source": [
        ""
      ],
      "execution_count": 0,
      "outputs": []
    },
    {
      "cell_type": "code",
      "metadata": {
        "id": "bu0abBNVxc9R",
        "colab_type": "code",
        "colab": {}
      },
      "source": [
        "import numpy as np\n",
        "import torch\n",
        "torch.set_printoptions(edgeitems = 2, threshold=50)"
      ],
      "execution_count": 0,
      "outputs": []
    },
    {
      "cell_type": "code",
      "metadata": {
        "id": "QNZo2-fTxc9b",
        "colab_type": "code",
        "colab": {}
      },
      "source": [
        "with open('https://raw.githubusercontent.com/microsoft/SynthaCorpus/master/ProjectGutenberg/1342-0.txt', encoding='utf8') as f:\n",
        "    text = f.read()"
      ],
      "execution_count": 0,
      "outputs": []
    },
    {
      "cell_type": "code",
      "metadata": {
        "id": "5zVceIGQxc9g",
        "colab_type": "code",
        "outputId": "4f3499d3-63ac-415e-f163-686f01d50354",
        "colab": {}
      },
      "source": [
        "lines = text.split('\\n')\n",
        "line = lines[200]\n",
        "line\n"
      ],
      "execution_count": 0,
      "outputs": [
        {
          "output_type": "execute_result",
          "data": {
            "text/plain": [
              "'“Impossible, Mr. Bennet, impossible, when I am not acquainted with him'"
            ]
          },
          "metadata": {
            "tags": []
          },
          "execution_count": 5
        }
      ]
    },
    {
      "cell_type": "code",
      "metadata": {
        "id": "XWSsXQhCxc9p",
        "colab_type": "code",
        "outputId": "d2571f9b-6794-4b1f-c56f-33565e91c45d",
        "colab": {}
      },
      "source": [
        "letter_t = torch.zeros(len(line),128)\n",
        "letter_t.shape"
      ],
      "execution_count": 0,
      "outputs": [
        {
          "output_type": "execute_result",
          "data": {
            "text/plain": [
              "torch.Size([70, 128])"
            ]
          },
          "metadata": {
            "tags": []
          },
          "execution_count": 6
        }
      ]
    },
    {
      "cell_type": "code",
      "metadata": {
        "id": "X-avr5R-xc9t",
        "colab_type": "code",
        "colab": {}
      },
      "source": [
        "for i,letter in enumerate(line.lower().strip()):\n",
        "    letter_index = ord(letter) if ord(letter) < 128 else 0\n",
        "    letter_t[i][letter_index] = 1"
      ],
      "execution_count": 0,
      "outputs": []
    },
    {
      "cell_type": "code",
      "metadata": {
        "id": "LeHh-EMsxc9z",
        "colab_type": "code",
        "colab": {}
      },
      "source": [
        "def clean_words(input_str):\n",
        "    punctuation = '.,;:\"!?”“_-'\n",
        "    word_list = input_str.lower().replace('\\n','').split()\n",
        "    word_list = [word.strip(punctuation) for word in word_list]\n",
        "    return word_list"
      ],
      "execution_count": 0,
      "outputs": []
    },
    {
      "cell_type": "code",
      "metadata": {
        "id": "hu5I-yBFxc93",
        "colab_type": "code",
        "outputId": "f3888c19-c5a3-4ed5-ce6a-b86cd44ab676",
        "colab": {}
      },
      "source": [
        "\n",
        "words_in_line = clean_words(line)\n",
        "line, words_in_line\n"
      ],
      "execution_count": 0,
      "outputs": [
        {
          "output_type": "execute_result",
          "data": {
            "text/plain": [
              "('“Impossible, Mr. Bennet, impossible, when I am not acquainted with him',\n",
              " ['impossible',\n",
              "  'mr',\n",
              "  'bennet',\n",
              "  'impossible',\n",
              "  'when',\n",
              "  'i',\n",
              "  'am',\n",
              "  'not',\n",
              "  'acquainted',\n",
              "  'with',\n",
              "  'him'])"
            ]
          },
          "metadata": {
            "tags": []
          },
          "execution_count": 9
        }
      ]
    },
    {
      "cell_type": "code",
      "metadata": {
        "id": "Eg8WrTPtxc9_",
        "colab_type": "code",
        "colab": {}
      },
      "source": [
        "word_list = sorted(set(clean_words(text)))\n",
        "word2index_dict = {word: i for (i, word) in enumerate(word_list)}"
      ],
      "execution_count": 0,
      "outputs": []
    },
    {
      "cell_type": "code",
      "metadata": {
        "id": "NPTWMlHsxc-F",
        "colab_type": "code",
        "outputId": "179c4991-6097-4f63-8649-c144fef941bd",
        "colab": {}
      },
      "source": [
        "len(word2index_dict), word2index_dict['impossible']"
      ],
      "execution_count": 0,
      "outputs": [
        {
          "output_type": "execute_result",
          "data": {
            "text/plain": [
              "(15514, 6925)"
            ]
          },
          "metadata": {
            "tags": []
          },
          "execution_count": 11
        }
      ]
    },
    {
      "cell_type": "code",
      "metadata": {
        "id": "-tJ0din6xc-N",
        "colab_type": "code",
        "outputId": "d3e3f892-33e9-4cb9-a29f-4d3e289f5cee",
        "colab": {}
      },
      "source": [
        "\n",
        "word_t = torch.zeros(len(words_in_line), len(word2index_dict))\n",
        "for i, word in enumerate(words_in_line):\n",
        "    word_index = word2index_dict[word]\n",
        "    word_t[i][word_index] = 1\n",
        "    print('{:2} {:4} {}'.format(i, word_index, word))"
      ],
      "execution_count": 0,
      "outputs": [
        {
          "output_type": "stream",
          "text": [
            " 0 6925 impossible\n",
            " 1 8832 mr\n",
            " 2 1906 bennet\n",
            " 3 6925 impossible\n",
            " 4 14844 when\n",
            " 5 6769 i\n",
            " 6  714 am\n",
            " 7 9198 not\n",
            " 8  312 acquainted\n",
            " 9 15085 with\n",
            "10 6387 him\n"
          ],
          "name": "stdout"
        }
      ]
    },
    {
      "cell_type": "code",
      "metadata": {
        "id": "oc5BpkkVxc-W",
        "colab_type": "code",
        "outputId": "ec4fb794-f941-4000-d70a-ffb8ea13080b",
        "colab": {}
      },
      "source": [
        "    \n",
        "print(word_t.shape)"
      ],
      "execution_count": 0,
      "outputs": [
        {
          "output_type": "stream",
          "text": [
            "torch.Size([11, 15514])\n"
          ],
          "name": "stdout"
        }
      ]
    },
    {
      "cell_type": "code",
      "metadata": {
        "id": "JLJgw7B2xc-c",
        "colab_type": "code",
        "outputId": "68805e2a-e03c-4d3f-81a0-e0ce88593ec3",
        "colab": {}
      },
      "source": [
        "\n",
        "word_t = word_t.unsqueeze(1)\n",
        "word_t.shape\n"
      ],
      "execution_count": 0,
      "outputs": [
        {
          "output_type": "execute_result",
          "data": {
            "text/plain": [
              "torch.Size([11, 1, 15514])"
            ]
          },
          "metadata": {
            "tags": []
          },
          "execution_count": 14
        }
      ]
    },
    {
      "cell_type": "code",
      "metadata": {
        "id": "knkKNtxFxc-l",
        "colab_type": "code",
        "outputId": "a4fb4f3f-e9e6-49d6-b5b0-b28cd27380bb",
        "colab": {}
      },
      "source": [
        "[(c, ord(c)) for c in sorted(set(text))]"
      ],
      "execution_count": 0,
      "outputs": [
        {
          "output_type": "execute_result",
          "data": {
            "text/plain": [
              "[('\\n', 10),\n",
              " (' ', 32),\n",
              " ('!', 33),\n",
              " ('#', 35),\n",
              " ('$', 36),\n",
              " ('%', 37),\n",
              " (\"'\", 39),\n",
              " ('(', 40),\n",
              " (')', 41),\n",
              " ('*', 42),\n",
              " (',', 44),\n",
              " ('-', 45),\n",
              " ('.', 46),\n",
              " ('/', 47),\n",
              " ('0', 48),\n",
              " ('1', 49),\n",
              " ('2', 50),\n",
              " ('3', 51),\n",
              " ('4', 52),\n",
              " ('5', 53),\n",
              " ('6', 54),\n",
              " ('7', 55),\n",
              " ('8', 56),\n",
              " ('9', 57),\n",
              " (':', 58),\n",
              " (';', 59),\n",
              " ('?', 63),\n",
              " ('@', 64),\n",
              " ('A', 65),\n",
              " ('B', 66),\n",
              " ('C', 67),\n",
              " ('D', 68),\n",
              " ('E', 69),\n",
              " ('F', 70),\n",
              " ('G', 71),\n",
              " ('H', 72),\n",
              " ('I', 73),\n",
              " ('J', 74),\n",
              " ('K', 75),\n",
              " ('L', 76),\n",
              " ('M', 77),\n",
              " ('N', 78),\n",
              " ('O', 79),\n",
              " ('P', 80),\n",
              " ('Q', 81),\n",
              " ('R', 82),\n",
              " ('S', 83),\n",
              " ('T', 84),\n",
              " ('U', 85),\n",
              " ('V', 86),\n",
              " ('W', 87),\n",
              " ('X', 88),\n",
              " ('Y', 89),\n",
              " ('Z', 90),\n",
              " ('[', 91),\n",
              " (']', 93),\n",
              " ('_', 95),\n",
              " ('a', 97),\n",
              " ('b', 98),\n",
              " ('c', 99),\n",
              " ('d', 100),\n",
              " ('e', 101),\n",
              " ('f', 102),\n",
              " ('g', 103),\n",
              " ('h', 104),\n",
              " ('i', 105),\n",
              " ('j', 106),\n",
              " ('k', 107),\n",
              " ('l', 108),\n",
              " ('m', 109),\n",
              " ('n', 110),\n",
              " ('o', 111),\n",
              " ('p', 112),\n",
              " ('q', 113),\n",
              " ('r', 114),\n",
              " ('s', 115),\n",
              " ('t', 116),\n",
              " ('u', 117),\n",
              " ('v', 118),\n",
              " ('w', 119),\n",
              " ('x', 120),\n",
              " ('y', 121),\n",
              " ('z', 122),\n",
              " ('“', 8220),\n",
              " ('”', 8221),\n",
              " ('\\ufeff', 65279)]"
            ]
          },
          "metadata": {
            "tags": []
          },
          "execution_count": 15
        }
      ]
    }
  ]
}